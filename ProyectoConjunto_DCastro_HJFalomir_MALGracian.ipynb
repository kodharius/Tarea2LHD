{
 "cells": [
  {
   "cell_type": "markdown",
   "id": "6904062e",
   "metadata": {},
   "source": [
    "<img style=\"float: left; margin: 30px 15px 15px 15px;\" src=\"https://pngimage.net/wp-content/uploads/2018/06/logo-iteso-png-5.png\" width=\"300\" height=\"500\" /> \n",
    "    \n",
    "    \n",
    "### <font color='navy'> Simulación de procesos financieros. \n",
    "\n",
    "**Nombres:** Dario Castro Gonzalez #1\n",
    "\n",
    "**Fecha:** 07 de febrero 2024.\n",
    "\n",
    "**Expediente** : 719910\n",
    "**Profesor:** Oscar David Jaramillo Zuluaga.\n",
    "    \n",
    "**Link Github**: \n",
    "\n",
    "# Tarea 2: Clase 5"
   ]
  },
  {
   "cell_type": "markdown",
   "id": "f9777a81",
   "metadata": {},
   "source": [
    "## Tarea 2\n",
    "1. Use filter to eliminate all words that are shorter than 4 letters from a list of words\n",
    "`list='the notion of a lambda function goes all the way back to the origin of computer science'`"
   ]
  },
  {
   "cell_type": "code",
   "execution_count": 1,
   "id": "98c297c8",
   "metadata": {},
   "outputs": [
    {
     "name": "stdout",
     "output_type": "stream",
     "text": [
      "['notion', 'lambda', 'function', 'goes', 'back', 'origin', 'computer', 'science']\n"
     ]
    }
   ],
   "source": [
    "# Solucion Estudiante 1 \n",
    "palabras = 'the notion of a lambda function goes all the way back to the origin of computer science'.split()\n",
    "res = list(filter(lambda word: len(word) >= 4, palabras))\n",
    "print(res)"
   ]
  },
  {
   "cell_type": "code",
   "execution_count": 2,
   "id": "6be2d318",
   "metadata": {},
   "outputs": [],
   "source": [
    "# Solucion Estudiante 2"
   ]
  },
  {
   "cell_type": "code",
   "execution_count": 3,
   "id": "e3a0d266",
   "metadata": {},
   "outputs": [],
   "source": [
    "# Solucion Estudiante 3"
   ]
  },
  {
   "cell_type": "markdown",
   "id": "7ff278b9",
   "metadata": {},
   "source": [
    "2. Use filter to determine the percentage of Fahrenheit temperatures in a list are within the range 32 to 80"
   ]
  },
  {
   "cell_type": "code",
   "execution_count": 13,
   "id": "ca2a3d21",
   "metadata": {},
   "outputs": [
    {
     "name": "stdout",
     "output_type": "stream",
     "text": [
      "[ 35.97387961  99.13294268  92.6178302   99.69549478  63.21119535\n",
      "  73.90387697  95.50028838  99.21476553  36.98251238 101.45813729\n",
      " 100.5917418   89.38159435  89.52156589  83.8084752   28.37990868\n",
      "  68.75395211  45.86132067  36.58307493  56.32208365  33.96219302\n",
      "  45.29071318  74.86289938  66.51091383  88.19316186  94.26635864\n",
      "  46.83131624 109.60744472 109.68427993  44.55796499  92.84146259]\n"
     ]
    }
   ],
   "source": [
    "# Solucion Estudiante 1\n",
    "# Solucionarlo usando la función filter\n",
    "import numpy as np\n",
    "np.random.seed(55555)\n",
    "temperatures = np.random.uniform(25,110,30)\n",
    "print(temperatures)"
   ]
  },
  {
   "cell_type": "code",
   "execution_count": 14,
   "id": "a5b78c60",
   "metadata": {},
   "outputs": [
    {
     "name": "stdout",
     "output_type": "stream",
     "text": [
      "Temperaturas entre 32 a 80:  [35.97387961379455, 63.211195349983264, 73.90387696517755, 36.982512376595906, 68.75395211338406, 45.86132066984196, 36.58307493022292, 56.322083650154724, 33.9621930206693, 45.29071317816652, 74.86289938282341, 66.51091382521807, 46.831316244170544, 44.55796498523391]\n"
     ]
    }
   ],
   "source": [
    "# Usamos filtros para filtrar las temp deseadas\n",
    "filtro_temps = list(filter(lambda x: 32 <= x <= 80, temperatures))\n",
    "\n",
    "# Imprimimos las temp deseadas entre 32 a 80\n",
    "print(\"Temperaturas entre 32 a 80: \", filtro_temps)"
   ]
  },
  {
   "cell_type": "code",
   "execution_count": 6,
   "id": "6a42bc19",
   "metadata": {},
   "outputs": [],
   "source": [
    "# Solucion Estudiante 2"
   ]
  },
  {
   "cell_type": "code",
   "execution_count": 7,
   "id": "f0bbb721",
   "metadata": {},
   "outputs": [],
   "source": [
    "# Solucion Estudiante 3"
   ]
  },
  {
   "cell_type": "markdown",
   "id": "bec1e1d2",
   "metadata": {},
   "source": [
    "3. Use reduce to find the lower left corner (minimum x and minimum y value) for a list of point locations\n",
    "> **Hint**: Explore the command `np.minimum.reduce` [link](https://docs.scipy.org/doc/numpy/reference/generated/numpy.ufunc.reduce.html)\n"
   ]
  },
  {
   "cell_type": "code",
   "execution_count": 23,
   "id": "e07fa9bf",
   "metadata": {},
   "outputs": [
    {
     "name": "stdout",
     "output_type": "stream",
     "text": [
      "[[17 97]\n",
      " [22 33]\n",
      " [37 46]\n",
      " [57 28]\n",
      " [11 25]\n",
      " [14  2]\n",
      " [74 16]\n",
      " [12 37]\n",
      " [35 21]\n",
      " [66 65]\n",
      " [86 58]\n",
      " [67 81]\n",
      " [ 0 48]\n",
      " [28 66]\n",
      " [76 22]\n",
      " [46 47]\n",
      " [64  7]\n",
      " [88 94]\n",
      " [65 13]\n",
      " [75 89]\n",
      " [23 17]\n",
      " [36 63]\n",
      " [62 36]\n",
      " [64 17]\n",
      " [18 19]\n",
      " [88 41]\n",
      " [21 49]\n",
      " [98 36]\n",
      " [81 73]\n",
      " [62 90]]\n"
     ]
    }
   ],
   "source": [
    "# Solucion Estudiante 1\n",
    "########### Solución 5\n",
    "np.random.seed(55555) #semillas son para que siempre que randomizes datos te salgan los mismos randoms.\n",
    "point_xy = np.random.randint(0,100,[30,2])\n",
    "print(point_xy)"
   ]
  },
  {
   "cell_type": "code",
   "execution_count": 25,
   "id": "86ab0dea",
   "metadata": {},
   "outputs": [
    {
     "name": "stdout",
     "output_type": "stream",
     "text": [
      "El máximo valor de la lista es: [98, 36]\n",
      "El minimo valor de la lista es: [0, 48]\n"
     ]
    }
   ],
   "source": [
    "from functools import reduce\n",
    "lista2 = point_xy.tolist()\n",
    "\n",
    "# Realiza la suma de los elementos de una lista\n",
    "# f = reduce(lambda x, y: x if x>y else y, lista)\n",
    "# Determinar el máximo de una lista de valores numéricos \n",
    "f = reduce(max, lista2)\n",
    "print('El máximo valor de la lista es:',  f)\n",
    "f3 = reduce(min, lista2)\n",
    "print('El minimo valor de la lista es:',  f3)"
   ]
  },
  {
   "cell_type": "code",
   "execution_count": 16,
   "id": "5f98163c",
   "metadata": {},
   "outputs": [],
   "source": [
    "# Solucion Estudiante 2\n"
   ]
  },
  {
   "cell_type": "code",
   "execution_count": 17,
   "id": "786df353",
   "metadata": {},
   "outputs": [],
   "source": [
    "# Solucion Estudiante 3"
   ]
  },
  {
   "cell_type": "markdown",
   "id": "3110f4b2",
   "metadata": {},
   "source": [
    "4. Find all of the numbers from 1-1000 that are divisible by 7"
   ]
  },
  {
   "cell_type": "code",
   "execution_count": 34,
   "id": "1fe82483",
   "metadata": {},
   "outputs": [
    {
     "name": "stdout",
     "output_type": "stream",
     "text": [
      "Numeros divisibles entre 7 [7, 14, 21, 28, 35, 42, 49, 56, 63, 70, 77, 84, 91, 98, 105, 112, 119, 126, 133, 140, 147, 154, 161, 168, 175, 182, 189, 196, 203, 210, 217, 224, 231, 238, 245, 252, 259, 266, 273, 280, 287, 294, 301, 308, 315, 322, 329, 336, 343, 350, 357, 364, 371, 378, 385, 392, 399, 406, 413, 420, 427, 434, 441, 448, 455, 462, 469, 476, 483, 490, 497, 504, 511, 518, 525, 532, 539, 546, 553, 560, 567, 574, 581, 588, 595, 602, 609, 616, 623, 630, 637, 644, 651, 658, 665, 672, 679, 686, 693, 700, 707, 714, 721, 728, 735, 742, 749, 756, 763, 770, 777, 784, 791, 798, 805, 812, 819, 826, 833, 840, 847, 854, 861, 868, 875, 882, 889, 896, 903, 910, 917, 924, 931, 938, 945, 952, 959, 966, 973, 980, 987, 994]\n"
     ]
    }
   ],
   "source": [
    "#Solucion estudiante 1\n",
    "# Lista de números\n",
    "number = np.arange(1,1001)\n",
    "#usando la funcion filter\n",
    "# Usamos filtros para filtrar las temp deseadas\n",
    "filtro_number = list(filter(lambda x: x%7==0, number))\n",
    "\n",
    "# Imprimimos las numeros divisibles\n",
    "print(\"Numeros divisibles entre 7\",filtro_number)"
   ]
  },
  {
   "cell_type": "code",
   "execution_count": 31,
   "id": "fb067ea1",
   "metadata": {},
   "outputs": [],
   "source": [
    "#Solucion estudiante 2"
   ]
  },
  {
   "cell_type": "code",
   "execution_count": 32,
   "id": "e17d3873",
   "metadata": {},
   "outputs": [],
   "source": [
    "#Solucion estudiante 3"
   ]
  },
  {
   "cell_type": "markdown",
   "id": "05837406",
   "metadata": {},
   "source": [
    "5. Find all of the numbers from 1-1000 that have a 3 in them"
   ]
  },
  {
   "cell_type": "code",
   "execution_count": 35,
   "id": "a6763eb1",
   "metadata": {},
   "outputs": [
    {
     "name": "stdout",
     "output_type": "stream",
     "text": [
      "Numeros con tres [3, 13, 23, 30, 31, 32, 33, 34, 35, 36, 37, 38, 39, 43, 53, 63, 73, 83, 93, 103, 113, 123, 130, 131, 132, 133, 134, 135, 136, 137, 138, 139, 143, 153, 163, 173, 183, 193, 203, 213, 223, 230, 231, 232, 233, 234, 235, 236, 237, 238, 239, 243, 253, 263, 273, 283, 293, 300, 301, 302, 303, 304, 305, 306, 307, 308, 309, 310, 311, 312, 313, 314, 315, 316, 317, 318, 319, 320, 321, 322, 323, 324, 325, 326, 327, 328, 329, 330, 331, 332, 333, 334, 335, 336, 337, 338, 339, 340, 341, 342, 343, 344, 345, 346, 347, 348, 349, 350, 351, 352, 353, 354, 355, 356, 357, 358, 359, 360, 361, 362, 363, 364, 365, 366, 367, 368, 369, 370, 371, 372, 373, 374, 375, 376, 377, 378, 379, 380, 381, 382, 383, 384, 385, 386, 387, 388, 389, 390, 391, 392, 393, 394, 395, 396, 397, 398, 399, 403, 413, 423, 430, 431, 432, 433, 434, 435, 436, 437, 438, 439, 443, 453, 463, 473, 483, 493, 503, 513, 523, 530, 531, 532, 533, 534, 535, 536, 537, 538, 539, 543, 553, 563, 573, 583, 593, 603, 613, 623, 630, 631, 632, 633, 634, 635, 636, 637, 638, 639, 643, 653, 663, 673, 683, 693, 703, 713, 723, 730, 731, 732, 733, 734, 735, 736, 737, 738, 739, 743, 753, 763, 773, 783, 793, 803, 813, 823, 830, 831, 832, 833, 834, 835, 836, 837, 838, 839, 843, 853, 863, 873, 883, 893, 903, 913, 923, 930, 931, 932, 933, 934, 935, 936, 937, 938, 939, 943, 953, 963, 973, 983, 993]\n"
     ]
    }
   ],
   "source": [
    "#Solucion estudiante 1\n",
    "#usando la funcion filter\n",
    "#Utilizamos una funcion para determinar el 3\n",
    "def tres(num):\n",
    "    return '3' in str(num)\n",
    "\n",
    "# Usamos filtros para filtrar las numeros deseados\n",
    "filtro_number3 = list(filter(tres, number))\n",
    "\n",
    "# Imprimimos las  numeros con 3\n",
    "print(\"Numeros con tres\",filtro_number3)"
   ]
  },
  {
   "cell_type": "code",
   "execution_count": 36,
   "id": "a753f1b8",
   "metadata": {},
   "outputs": [],
   "source": [
    "#Solucion estudiante 2"
   ]
  },
  {
   "cell_type": "code",
   "execution_count": 37,
   "id": "b2e78306",
   "metadata": {},
   "outputs": [],
   "source": [
    "#Solucion estudiante 3"
   ]
  },
  {
   "cell_type": "markdown",
   "id": "e17bfe35",
   "metadata": {},
   "source": [
    "6. Imagine una rutina contable utilizada en una librería. Funciona en una lista con sublistas, que se ven así:\n",
    "![imagen.png](attachment:imagen.png)\n",
    "Escriba un programa en Python, que devuelve una lista con tuplas de tamaño 2. Cada tupla consiste en el número de pedido y el costo total del pedido. El producto debe aumentarse en 10€ si el valor de la orden es inferior a 100,00 €. \n",
    "Escribe un programa Python usando unicamente las funciones **lambda y map**."
   ]
  },
  {
   "cell_type": "code",
   "execution_count": 40,
   "id": "4d9f7572",
   "metadata": {},
   "outputs": [
    {
     "data": {
      "text/plain": [
       "[['34587', 'Learning Python, Mark Lutz', 4, 40.95],\n",
       " ['98762', 'Programming Python, Mark Lutz', 5, 56.8],\n",
       " ['77226', 'Head First Python, Paul Barry', 3, 32.95],\n",
       " ['88112', 'Einführung in Python3, Bernd Klein', 3, 24.99]]"
      ]
     },
     "execution_count": 40,
     "metadata": {},
     "output_type": "execute_result"
    }
   ],
   "source": [
    "#Solucion estudiante 1\n",
    "orders = [ [\"34587\", \"Learning Python, Mark Lutz\", 4, 40.95], \n",
    "           [\"98762\", \"Programming Python, Mark Lutz\", 5, 56.80], \n",
    "           [\"77226\", \"Head First Python, Paul Barry\", 3,32.95],\n",
    "           [\"88112\", \"Einführung in Python3, Bernd Klein\", 3, 24.99]]\n",
    "orders"
   ]
  },
  {
   "cell_type": "code",
   "execution_count": 41,
   "id": "ee571b10",
   "metadata": {},
   "outputs": [
    {
     "name": "stdout",
     "output_type": "stream",
     "text": [
      "[['34587', 163.8], ['98762', 284.0], ['77226', 108.85000000000001], ['88112', 84.97]]\n"
     ]
    }
   ],
   "source": [
    "import pandas as pd\n",
    "\n",
    "orders = [[\"34587\", \"Learning Python, Mark Lutz\", 4, 40.95], \n",
    "          [\"98762\", \"Programming Python, Mark Lutz\", 5, 56.80], \n",
    "          [\"77226\", \"Head First Python, Paul Barry\", 3, 32.95], \n",
    "          [\"88112\", \"Einführung in Python3, Bernd Klein\", 3, 24.99]]\n",
    "\n",
    "df = pd.DataFrame(orders, columns=['order_number', 'item', 'quantity', 'price'])\n",
    "df['total_price'] = df['quantity'] * df['price']\n",
    "df['total_price'] = df['total_price'].apply(lambda x: x + 10 if x < 100 else x)\n",
    "df = df[['order_number', 'total_price']]\n",
    "result = df.values.tolist()\n",
    "print(result)"
   ]
  },
  {
   "cell_type": "code",
   "execution_count": 44,
   "id": "03a9dd6b",
   "metadata": {},
   "outputs": [
    {
     "name": "stdout",
     "output_type": "stream",
     "text": [
      "[('34587', 163.8), ('98762', 284.0), ('77226', 108.85000000000001), ('88112', 84.97)]\n"
     ]
    }
   ],
   "source": [
    "# Creando una función que incremente en 10 euros si el pedido es menor a 100\n",
    "total_cost = lambda x: x[2] * x[3] + 10 if x[2] * x[3] < 100 else x[2] * x[3]\n",
    "result2 = list(map(lambda x: (x[0], total_cost(x)), orders))\n",
    "print(result2)"
   ]
  },
  {
   "cell_type": "code",
   "execution_count": 45,
   "id": "83157ea7",
   "metadata": {},
   "outputs": [],
   "source": [
    "#Solucion estudiante 2"
   ]
  },
  {
   "cell_type": "code",
   "execution_count": 46,
   "id": "2379e56c",
   "metadata": {},
   "outputs": [],
   "source": [
    "#Solucion estudiante 3"
   ]
  },
  {
   "cell_type": "code",
   "execution_count": null,
   "id": "47ea4f1d",
   "metadata": {},
   "outputs": [],
   "source": []
  },
  {
   "cell_type": "markdown",
   "id": "fea36ab2",
   "metadata": {},
   "source": [
    "7. La misma librería, pero esta vez trabajamos en una lista diferente. Las sublistas de nuestras listas se ven así: \n",
    "[número de orden, (número de artículo, cantidad, precio por unidad), ... (número de artículo, cantidad, precio por unidad)] \n",
    "\n",
    "`orders = [[1, (\"5464\", 4, 9.99), (\"8274\",18,12.99), (\"9744\", 9, 44.95)], \n",
    "\t       [2, (\"5464\", 9, 9.99), (\"9744\", 9, 44.95)],\n",
    "\t       [3, (\"5464\", 9, 9.99), (\"88112\", 11, 24.99)],\n",
    "           [4, (\"8732\", 7, 11.99), (\"7733\",11,18.99), (\"88112\", 5, 39.95)] ]`\n",
    "\n",
    "Escriba un programa que devuelva una lista de dos tuplas que tengan la información de (número de orden, cantidad total de pedido). Nuevamente, tenga en cuenta que si el pedido debe aumentarse en 10€ si el valor de la orden es inferior a 100,00 €.  Utilice la función `Reduce`."
   ]
  },
  {
   "cell_type": "code",
   "execution_count": 49,
   "id": "543b28e0",
   "metadata": {},
   "outputs": [
    {
     "data": {
      "text/plain": [
       "[[1, ('5464', 4, 9.99), ('8274', 18, 12.99), ('9744', 9, 44.95)],\n",
       " [2, ('5464', 9, 9.99), ('9744', 9, 44.95)],\n",
       " [3, ('5464', 9, 9.99), ('88112', 11, 24.99)],\n",
       " [4, ('8732', 7, 11.99), ('7733', 11, 18.99), ('88112', 5, 39.95)]]"
      ]
     },
     "execution_count": 49,
     "metadata": {},
     "output_type": "execute_result"
    }
   ],
   "source": [
    "########### Solución estudiante 1\n",
    "orders2 = [ [1, (\"5464\", 4, 9.99), (\"8274\",18,12.99), (\"9744\", 9, 44.95)], \n",
    "           [2, (\"5464\", 9, 9.99), (\"9744\", 9, 44.95)],\n",
    "           [3, (\"5464\", 9, 9.99), (\"88112\", 11, 24.99)],\n",
    "           [4, (\"8732\", 7, 11.99), (\"7733\",11,18.99), (\"88112\", 5, 39.95)] ]\n",
    "orders2"
   ]
  },
  {
   "cell_type": "code",
   "execution_count": 50,
   "id": "d2989345",
   "metadata": {},
   "outputs": [
    {
     "name": "stdout",
     "output_type": "stream",
     "text": [
      "[[1, 678.3299999999999], [2, 494.46000000000004], [3, 364.79999999999995], [4, 492.57]]\n"
     ]
    }
   ],
   "source": [
    "resultado = []\n",
    "for order in orders2:\n",
    "    total = reduce(lambda x, y: x + y[1] * y[2], order[1:], 0)\n",
    "    if total < 100:\n",
    "        total += 10\n",
    "    resultado.append([order[0], total])\n",
    "\n",
    "print(resultado)"
   ]
  },
  {
   "cell_type": "code",
   "execution_count": 51,
   "id": "3feb1c25",
   "metadata": {},
   "outputs": [],
   "source": [
    "# Solución estudiante 2"
   ]
  },
  {
   "cell_type": "code",
   "execution_count": 52,
   "id": "9cb89023",
   "metadata": {},
   "outputs": [],
   "source": [
    "# Solución estudiante 3"
   ]
  },
  {
   "cell_type": "code",
   "execution_count": null,
   "id": "6abe9f42",
   "metadata": {},
   "outputs": [],
   "source": []
  }
 ],
 "metadata": {
  "kernelspec": {
   "display_name": "Python 3 (ipykernel)",
   "language": "python",
   "name": "python3"
  },
  "language_info": {
   "codemirror_mode": {
    "name": "ipython",
    "version": 3
   },
   "file_extension": ".py",
   "mimetype": "text/x-python",
   "name": "python",
   "nbconvert_exporter": "python",
   "pygments_lexer": "ipython3",
   "version": "3.9.12"
  }
 },
 "nbformat": 4,
 "nbformat_minor": 5
}
